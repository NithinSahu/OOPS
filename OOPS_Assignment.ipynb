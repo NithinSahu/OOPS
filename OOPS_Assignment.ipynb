{
  "nbformat": 4,
  "nbformat_minor": 0,
  "metadata": {
    "colab": {
      "provenance": []
    },
    "kernelspec": {
      "name": "python3",
      "display_name": "Python 3"
    },
    "language_info": {
      "name": "python"
    }
  },
  "cells": [
    {
      "cell_type": "markdown",
      "source": [
        "# Python OOPS Questions\n",
        "\n",
        "###1.  What is Object-Oriented Programming (OOP)?\n",
        "- Object-Oriented Programming (OOP) in Python:\n",
        "\n",
        "1. Classes and Objects: Bundling data and behaviors together.\n",
        "2. Reusable Building Blocks: Mimics real-world entities, promoting extensibility and maintainability.\n",
        "3. Loose Coupling: Minimizes cascading impacts of changes, making code more manageable.\n",
        "\n",
        "###2. What is a class in OOP?\n",
        "- In Object-Oriented Programming (OOP), a class is a blueprint or template for creating objects. It defines the structure and behavior of objects, including their attributes (data) and methods (functions).\n",
        "\n",
        "###3. What is an object in OOP?\n",
        "- In Object-Oriented Programming (OOP), an object is a fundamental unit that combines data (attributes or fields) with the actions or behaviors that can be performed on that data (methods or functions). It's essentially an instance of a class, a blueprint that defines the structure and behavior of objects of that type.\n",
        "\n",
        "###4. What is the difference between abstraction and encapsulation?\n",
        "- Abstraction focuses on hiding complex implementation details and showing only the essential functionalities of an object, while encapsulation bundles data and methods within a single unit (like a class) and controls access to those elements.\n",
        "\n",
        "###5. What are dunder methods in Python?\n",
        "- Dunder methods, also known as magic methods or special methods, are predefined methods in Python that have double underscores (dunders) at the beginning and end of their names, such as _ _ init _ _, _ _ str _ _ , and _ _ len _ _ .\n",
        "- They enable classes to define how they should behave with built-in Python operators and functions. By implementing dunder methods in your classes, you can customize how objects are created, represented, and interact with operations like addition, comparison, and indexing.\n",
        "\n",
        "###6. Explain the concept of inheritance in OOP?\n",
        "- Inheritance in object-oriented programming (OOP) is a mechanism where a new class (derived or subclass) inherits properties and behaviors (methods) from an existing class (base or superclass).\n",
        "\n",
        "###7. What is polymorphism in OOP?\n",
        "- In Object-Oriented Programming (OOP), polymorphism, meaning \"many forms,\" allows objects of different classes to be treated as objects of a common superclass, enabling them to respond to the same method call in different ways.\n",
        "\n",
        "###8. How is encapsulation achieved in Python?\n",
        "- Encapsulation is achieved by declaring a class's data members and methods as either private or protected. But in Python, we do not have keywords like public, private, and protected, as in the case of Java. Instead, we achieve this by using single and double underscores.\n",
        "\n",
        "###9. What is a constructor in Python?\n",
        "-  A constructor is a special method within a class that initializes the attributes of an object when the object is created. It is automatically called when an object is instantiated. The constructor method in Python is named _ _ init _ _.\n",
        "- Its primary purpose is to set up the initial state of an object by assigning values to its attributes.\n",
        "- Every class in Python has a constructor, even if it is not explicitly defined. If a constructor is not defined, Python provides a default constructor.\n",
        "Python.\n",
        "\n",
        "###10. What are class and static methods in Python?\n",
        "- Class Methods vs Static Methods:\n",
        "\n",
        "1. Class Methods:\n",
        "    - Bound to the class, receives cls as first argument.\n",
        "    - Can access and modify class-level attributes.\n",
        "    - Defined using @classmethod.\n",
        "2. Static Methods:\n",
        "    - Not bound to class or instance, no special first argument.\n",
        "    - Cannot access or modify class or instance attributes.\n",
        "    - Defined using @staticmethod.\n",
        "\n",
        "###11. What is method overloading in Python?\n",
        "- Method Overloading in Python:\n",
        "\n",
        "1. Not directly supported like in Java or C++.\n",
        "2. Achieved through flexible argument handling:\n",
        "    - Default arguments\n",
        "    - Variable-length arguments\n",
        "    - Conditional logic within a single method definition.\n",
        "\n",
        "###12. What is method overriding in OOP?\n",
        "- Method overriding is a mechanism where a subclass provides its own specific implementation for a method that is already defined in its superclass. This allows subclasses to customize the behavior of inherited methods while maintaining the same method signature as the superclass\n",
        "\n",
        "###13. What is a property decorator in Python?\n",
        "-Property Decorator in Python:\n",
        "\n",
        "1. Allows methods to be accessed like attributes.\n",
        "2. Encapsulates attribute access and modification with custom logic.\n",
        "3. Uses @property for getters, @<property_name>.setter for setters, and @<property_name>.deleter for deleters.\n",
        "\n",
        "###14. Why is polymorphism important in OOP?\n",
        "- Benefits of Polymorphism:\n",
        "\n",
        "1. Code Reusability: Write code that works with different object types.\n",
        "2. Flexibility: Easily add new features or classes without modifying existing code.\n",
        "3. Simplified Development: More concise and readable code.\n",
        "4. Easier Maintenance: Modify or extend code without affecting existing working code.\n",
        "\n",
        "###15. What is an abstract class in Python?\n",
        "- An abstract class in Python is a class that cannot be instantiated directly and serves as a blueprint for other classes.\n",
        "- It defines methods that subclasses must implement, ensuring a consistent interface.\n",
        "- Abstract classes are created using the abc module and the ABC class, with abstract methods marked using the @abstractmethod decorator.\n",
        "\n",
        "###16. What are the advantages of OOP?\n",
        "- Benefits of OOP:\n",
        "\n",
        "1. Modularity: Easier to understand, maintain, and debug.\n",
        "2. Code Reusability: Reduces duplication through inheritance.\n",
        "3. Flexibility: Polymorphism allows uniform treatment of different objects.\n",
        "4. Scalability: Easier to add new features without major modifications.\n",
        "5. Simplified Debugging: Encapsulation and modularity help isolate bugs.\n",
        "6. Security: Encapsulation protects data from unauthorized access.\n",
        "7. Productivity: Features like reusability and debugging efficiency boost productivity.\n",
        "\n",
        "###17. What is the difference between a class variable and an instance variable?\n",
        "\n",
        "- Instance Variables vs Class Variables:\n",
        "  - Scope: Instance variables are specific to each instance, while class variables are shared among all instances.\n",
        "  - Declaration: Instance variables are defined in __init__ using self, while class variables are defined outside methods.\n",
        "  - Access: Instance variables use self.variable_name, while class variables use ClassName.variable_name or instance_name.variable_name.\n",
        "  - Mutability: Instance variables have unique values per instance, while class variables have the same value across all instances.\n",
        "\n",
        "###18. What is multiple inheritance in Python?\n",
        "- Multiple Inheritance in Python:\n",
        "\n",
        "- Allows a class to inherit attributes and methods from multiple parent classes.\n",
        "- Enables combining functionalities from different classes.\n",
        "- Creates a more versatile and reusable class structure.\n",
        "\n",
        "###19.  Explain the purpose of ‘’__str__’ and ‘__repr__’ ‘ methods in Python?\n",
        "- *_ _str _ _ vs  _ _ repr _ _ :*\n",
        "\n",
        "1. *_ _ str _ _*: Returns a human-readable string for end-users (e.g., print()).\n",
        "2. *__repr__*: Returns a formal, unambiguous string for developers (e.g., debugging, logging).\n",
        "3. If _ _ str _ _ is not defined, Python uses _ _ repr _ _ as a fallback.\n",
        "\n",
        "###20. What is the significance of the ‘super()’ function in Python?\n",
        "- *The super() Function:*\n",
        "\n",
        "1. Calls parent class methods in a child class.\n",
        "2. Enables method overriding and extension.\n",
        "3. Useful for:\n",
        "    - Calling superclass constructors (__init__)\n",
        "    - Overriding methods while extending functionality\n",
        "    - Managing method resolution order in multiple inheritance\n",
        "4. Promotes code reuse, flexibility, and maintainability.\n",
        "\n",
        "###21. What is the significance of the __del__ method in Python?\n",
        "- *The __del__ Method:*\n",
        "\n",
        "1. Defines actions when an object is garbage collected.\n",
        "2. Used for cleanup of resources (e.g., closing files, network connections).\n",
        "3. Unpredictable timing and potential issues make it less reliable.\n",
        "4. Recommended to use context managers or explicit cleanup methods instead.\n",
        "\n",
        "###22. What is the difference between @staticmethod and @classmethod in Python?\n",
        "1. *@staticmethod*:\n",
        "    - Regular function inside a class.\n",
        "    - No access to class or instance state.\n",
        "    - Useful for utility functions.\n",
        "2. *@classmethod*:\n",
        "    - Receives the class as the first argument (cls).\n",
        "    - Can access and modify class-level attributes.\n",
        "    - Useful for factory methods or class-level operations.\n",
        "\n",
        "###23. How does polymorphism work in Python with inheritance?\n",
        "- Polymorphism in Python:\n",
        "\n",
        "1. Allows objects of different classes to respond to the same method call in their own way.\n",
        "2. Achieved through method overriding in inheritance, where a subclass redefines a parent class method.\n",
        "3. Enables writing uniform code that works with objects of different classes, as long as they share a common interface.\n",
        "4. Python dynamically determines the correct method implementation to execute based on the object's actual class.\n",
        "\n",
        "###24. What is method chaining in Python OOPs?\n",
        "- Method Chaining in Python:\n",
        "\n",
        "1. Allows multiple methods to be called on an object in a single line.\n",
        "2. Enhances code readability and conciseness.\n",
        "3. Achieved by having each method return the object instance (self).\n",
        "\n",
        "###25. What is the purpose of the __call__ method in Python?\n",
        "- *The __call__ Method:*\n",
        "\n",
        "1. Enables instances of a class to be called like regular functions using the () syntax.\n",
        "2. Makes objects \"callable\" and allows them to behave like functions.\n",
        "3. Useful for creating objects that need to maintain state while being used like functions.\n",
        "4. Often used in scenarios like function-like objects, decorators, or when an object needs to perform an action when called."
      ],
      "metadata": {
        "id": "9IKDfo7FnmBw"
      }
    },
    {
      "cell_type": "code",
      "source": [
        "#Practical Questions"
      ],
      "metadata": {
        "id": "n7mh7V8_E004"
      },
      "execution_count": null,
      "outputs": []
    },
    {
      "cell_type": "code",
      "source": [
        "#1. Create a parent class Animal with a method speak() that prints a generic message. Create a child class Dog\n",
        "#   that overrides the speak() method to print \"Bark!\".\n",
        "\n",
        "class Animal:\n",
        "    def speak(self):\n",
        "        print(\"Generic animal sound\")\n",
        "\n",
        "class Dog(Animal):\n",
        "    def speak(self):\n",
        "        print(\"Bark!\")"
      ],
      "metadata": {
        "id": "r5YngzxoFB4u"
      },
      "execution_count": null,
      "outputs": []
    },
    {
      "cell_type": "code",
      "source": [
        "#2. Write a program to create an abstract class Shape with a method area(). Derive classes Circle and Rectangle\n",
        "#   from it and implement the area() method in both.\n",
        "\n",
        "from abc import ABC, abstractmethod\n",
        "import math\n",
        "\n",
        "class Shape(ABC):\n",
        "    @abstractmethod\n",
        "    def area(self):\n",
        "        pass\n",
        "\n",
        "class Circle(Shape):\n",
        "    def __init__(self, radius):\n",
        "        self.radius = radius\n",
        "\n",
        "    def area(self):\n",
        "        return math.pi * self.radius ** 2\n",
        "\n",
        "class Rectangle(Shape):\n",
        "    def __init__(self, length, width):\n",
        "        self.length = length\n",
        "        self.width = width\n",
        "\n",
        "    def area(self):\n",
        "        return self.length * self.width\n",
        "\n",
        "# Test the classes\n",
        "if __name__ == \"__main__\":\n",
        "    circle = Circle(5)\n",
        "    print(f\"Circle area: {circle.area():.2f}\")  # Formatted to 2 decimal places\n",
        "\n",
        "    rectangle = Rectangle(4, 6)\n",
        "    print(f\"Rectangle area: {rectangle.area()}\")"
      ],
      "metadata": {
        "colab": {
          "base_uri": "https://localhost:8080/"
        },
        "id": "0y1AfFNOFFpd",
        "outputId": "05b5d7f8-49af-4c86-f3b3-6296e50b6954"
      },
      "execution_count": 1,
      "outputs": [
        {
          "output_type": "stream",
          "name": "stdout",
          "text": [
            "Circle area: 78.54\n",
            "Rectangle area: 24\n"
          ]
        }
      ]
    },
    {
      "cell_type": "code",
      "source": [
        "#3. Implement a multi-level inheritance scenario where a class Vehicle has an attribute type. Derive a class Car\n",
        "#   and further derive a class ElectricCar that adds a battery attribute.\n",
        "\n",
        "class Vehicle:\n",
        "    def __init__(self, type_):\n",
        "        self.type = type_  # Vehicle type (e.g., \"Automobile\", \"Two-Wheeler\")\n",
        "\n",
        "class Car(Vehicle):\n",
        "    def __init__(self, type_, brand):\n",
        "        super().__init__(type_)\n",
        "        self.brand = brand  # Car brand (e.g., \"Tesla\", \"Toyota\")\n",
        "\n",
        "class ElectricCar(Car):\n",
        "    def __init__(self, type_, brand, battery_capacity):\n",
        "        super().__init__(type_, brand)\n",
        "        self.battery = battery_capacity  # kWh (e.g., 75, 100)\n",
        "\n",
        "    def display_info(self):\n",
        "        print(f\"Type: {self.type}\")\n",
        "        print(f\"Brand: {self.brand}\")\n",
        "        print(f\"Battery: {self.battery}kWh\")\n",
        "\n",
        "# Usage Example\n",
        "if __name__ == \"__main__\":\n",
        "    tesla = ElectricCar(\"Automobile\", \"Tesla\", 100)\n",
        "    tesla.display_info()"
      ],
      "metadata": {
        "colab": {
          "base_uri": "https://localhost:8080/"
        },
        "id": "yXmuX7d0y2fA",
        "outputId": "724a8416-1337-4ba0-ecef-bf2595f36652"
      },
      "execution_count": 2,
      "outputs": [
        {
          "output_type": "stream",
          "name": "stdout",
          "text": [
            "Type: Automobile\n",
            "Brand: Tesla\n",
            "Battery: 100kWh\n"
          ]
        }
      ]
    },
    {
      "cell_type": "code",
      "source": [
        "#4. Demonstrate polymorphism by creating a base class Bird with a method fly(). Create two derived classes\n",
        "#   Sparrow and Penguin that override the fly() method.\n",
        "\n",
        "class Bird:\n",
        "    def fly(self):\n",
        "        print(\"This bird can fly\")\n",
        "\n",
        "class Sparrow(Bird):\n",
        "    def fly(self):\n",
        "        print(\"Sparrow flaps wings rapidly to fly\")\n",
        "\n",
        "class Penguin(Bird):\n",
        "    def fly(self):\n",
        "        print(\"Penguin cannot fly, but swims instead\")\n",
        "\n",
        "# Polymorphism in action\n",
        "def demonstrate_flight(bird):\n",
        "    bird.fly()\n",
        "\n",
        "# Create instances\n",
        "generic_bird = Bird()\n",
        "house_sparrow = Sparrow()\n",
        "emperor_penguin = Penguin()\n",
        "\n",
        "# Demonstrate polymorphism\n",
        "print(\"-- Regular Bird --\")\n",
        "demonstrate_flight(generic_bird)\n",
        "\n",
        "print(\"\\n-- Sparrow --\")\n",
        "demonstrate_flight(house_sparrow)\n",
        "\n",
        "print(\"\\n-- Penguin --\")\n",
        "demonstrate_flight(emperor_penguin)"
      ],
      "metadata": {
        "colab": {
          "base_uri": "https://localhost:8080/"
        },
        "id": "4rT52vPEzwa3",
        "outputId": "28a21588-84ae-4b21-c492-b8230183516b"
      },
      "execution_count": 4,
      "outputs": [
        {
          "output_type": "stream",
          "name": "stdout",
          "text": [
            "-- Regular Bird --\n",
            "This bird can fly\n",
            "\n",
            "-- Sparrow --\n",
            "Sparrow flaps wings rapidly to fly\n",
            "\n",
            "-- Penguin --\n",
            "Penguin cannot fly, but swims instead\n"
          ]
        }
      ]
    },
    {
      "cell_type": "code",
      "source": [
        "#5. Write a program to demonstrate encapsulation by creating a class BankAccount with private attributes\n",
        "#   balance and methods to deposit, withdraw, and check balance.\n",
        "\n",
        "class BankAccount:\n",
        "    def __init__(self):\n",
        "        self.__balance = 0  # Private attribute\n",
        "\n",
        "    def deposit(self, amount):\n",
        "        if amount > 0:\n",
        "            self.__balance += amount\n",
        "            print(f\"Deposited ₹{amount}. New balance: ₹{self.__balance}\")\n",
        "        else:\n",
        "            print(\"Deposit amount must be positive\")\n",
        "\n",
        "    def withdraw(self, amount):\n",
        "        if 0 < amount <= self.__balance:\n",
        "            self.__balance -= amount\n",
        "            print(f\"Withdrew ₹{amount}. Remaining balance: ₹{self.__balance}\")\n",
        "        else:\n",
        "            print(\"Invalid withdrawal amount or insufficient funds\")\n",
        "\n",
        "    def check_balance(self):\n",
        "        print(f\"Current balance: ₹{self.__balance}\")\n",
        "\n",
        "# Demonstrate encapsulation\n",
        "if __name__ == \"__main__\":\n",
        "    account = BankAccount()\n",
        "\n",
        "    account.deposit(1000)  # Valid deposit\n",
        "    account.withdraw(300)  # Valid withdrawal\n",
        "    account.withdraw(800)  # Invalid withdrawal (exceeds balance)\n",
        "    account.deposit(-200)  # Invalid deposit\n",
        "\n",
        "    # Attempt to access private attribute directly (won't work)\n",
        "    try:\n",
        "        print(account.__balance)  # Raises AttributeError\n",
        "    except AttributeError:\n",
        "        print(\"\\nDirect access to __balance failed - Encapsulation working!\")\n",
        "\n",
        "    # Check balance through proper method\n",
        "    account.check_balance()"
      ],
      "metadata": {
        "colab": {
          "base_uri": "https://localhost:8080/"
        },
        "id": "j6lSBCf40Sod",
        "outputId": "b309745c-e36f-4f36-8a2a-320a3b8b08df"
      },
      "execution_count": 5,
      "outputs": [
        {
          "output_type": "stream",
          "name": "stdout",
          "text": [
            "Deposited ₹1000. New balance: ₹1000\n",
            "Withdrew ₹300. Remaining balance: ₹700\n",
            "Invalid withdrawal amount or insufficient funds\n",
            "Deposit amount must be positive\n",
            "\n",
            "Direct access to __balance failed - Encapsulation working!\n",
            "Current balance: ₹700\n"
          ]
        }
      ]
    },
    {
      "cell_type": "code",
      "source": [
        "#6. Demonstrate runtime polymorphism using a method play() in a base class Instrument. Derive classes Guitar\n",
        "#   and Piano that implement their own version of play().\n",
        "\n",
        "class Instrument:\n",
        "    def play(self):\n",
        "        print(\"Instrument makes a generic sound\")\n",
        "\n",
        "class Guitar(Instrument):\n",
        "    def play(self):\n",
        "        print(\"Strumming guitar strings: ♪ ♫ ♬\")\n",
        "\n",
        "class Piano(Instrument):\n",
        "    def play(self):\n",
        "        print(\"Pressing piano keys: 🎹 Do Re Mi Fa Sol\")\n",
        "\n",
        "# Polymorphic function\n",
        "def play_instrument(instrument):\n",
        "    instrument.play()\n",
        "\n",
        "# Create instances\n",
        "generic = Instrument()\n",
        "stratocaster = Guitar()\n",
        "grand_piano = Piano()\n",
        "\n",
        "# Demonstrate polymorphism\n",
        "print(\"-- Base Instrument --\")\n",
        "play_instrument(generic)\n",
        "\n",
        "print(\"\\n-- Guitar --\")\n",
        "play_instrument(stratocaster)\n",
        "\n",
        "print(\"\\n-- Piano --\")\n",
        "play_instrument(grand_piano)\n",
        "\n",
        "# Polymorphism in collections\n",
        "print(\"\\n-- Orchestra Section --\")\n",
        "instruments = [Guitar(), Piano(), Guitar(), Piano()]\n",
        "for i, instrument in enumerate(instruments, 1):\n",
        "    print(f\"Instrument {i}: \", end=\"\")\n",
        "    play_instrument(instrument)"
      ],
      "metadata": {
        "colab": {
          "base_uri": "https://localhost:8080/"
        },
        "id": "9xZ2R3Ks0v3g",
        "outputId": "76c327fb-23b8-4569-eb4e-26f6a814d1d0"
      },
      "execution_count": 6,
      "outputs": [
        {
          "output_type": "stream",
          "name": "stdout",
          "text": [
            "-- Base Instrument --\n",
            "Instrument makes a generic sound\n",
            "\n",
            "-- Guitar --\n",
            "Strumming guitar strings: ♪ ♫ ♬\n",
            "\n",
            "-- Piano --\n",
            "Pressing piano keys: 🎹 Do Re Mi Fa Sol\n",
            "\n",
            "-- Orchestra Section --\n",
            "Instrument 1: Strumming guitar strings: ♪ ♫ ♬\n",
            "Instrument 2: Pressing piano keys: 🎹 Do Re Mi Fa Sol\n",
            "Instrument 3: Strumming guitar strings: ♪ ♫ ♬\n",
            "Instrument 4: Pressing piano keys: 🎹 Do Re Mi Fa Sol\n"
          ]
        }
      ]
    },
    {
      "cell_type": "code",
      "source": [
        "#7. Create a class MathOperations with a class method add_numbers() to add two numbers and a static\n",
        "#   method subtract_numbers() to subtract two numbers.\n",
        "\n",
        "class MathOperations:\n",
        "    @classmethod\n",
        "    def add_numbers(cls, a, b):\n",
        "        return a + b\n",
        "\n",
        "    @staticmethod\n",
        "    def subtract_numbers(a, b):\n",
        "        return a - b"
      ],
      "metadata": {
        "id": "UE2AN5bd1c7I"
      },
      "execution_count": 10,
      "outputs": []
    },
    {
      "cell_type": "code",
      "source": [
        "#8. Implement a class Person with a class method to count the total number of persons created.\n",
        "\n",
        "class Person:\n",
        "    __person_count = 0  # Class-level private variable\n",
        "\n",
        "    def __init__(self, name):\n",
        "        self.name = name\n",
        "        Person.__increment_count()\n",
        "\n",
        "    @classmethod\n",
        "    def __increment_count(cls):\n",
        "        cls.__person_count += 1\n",
        "\n",
        "    @classmethod\n",
        "    def get_person_count(cls):\n",
        "        return cls.__person_count\n",
        "\n",
        "# Usage Demonstration\n",
        "if __name__ == \"__main__\":\n",
        "    print(\"Initial count:\", Person.get_person_count())\n",
        "\n",
        "    alice = Person(\"Alice\")\n",
        "    bob = Person(\"Bob\")\n",
        "    charlie = Person(\"Charlie\")\n",
        "\n",
        "    print(\"After creating 3 persons:\", Person.get_person_count())\n",
        "\n",
        "    # Create 5 more persons\n",
        "    for i in range(5):\n",
        "        Person(f\"Person_{i+1}\")\n",
        "\n",
        "    print(\"After 8 total persons:\", Person.get_person_count())"
      ],
      "metadata": {
        "colab": {
          "base_uri": "https://localhost:8080/"
        },
        "id": "oYgnBWAS2FvE",
        "outputId": "b8f97ddc-8adb-4c83-de9e-d34c9927dd51"
      },
      "execution_count": 11,
      "outputs": [
        {
          "output_type": "stream",
          "name": "stdout",
          "text": [
            "Initial count: 0\n",
            "After creating 3 persons: 3\n",
            "After 8 total persons: 8\n"
          ]
        }
      ]
    },
    {
      "cell_type": "code",
      "source": [
        "#9. Write a class Fraction with attributes numerator and denominator. Override the str method to display the\n",
        "#   fraction as \"numerator/denominator\".\n",
        "\n",
        "class Fraction:\n",
        "    def __init__(self, numerator, denominator=1):\n",
        "        self.numerator = numerator\n",
        "        self.denominator = denominator\n",
        "\n",
        "    def __str__(self):\n",
        "        return f\"{self.numerator}/{self.denominator}\"\n",
        "\n",
        "# Demonstration\n",
        "if __name__ == \"__main__\":\n",
        "    half = Fraction(1, 2)\n",
        "    quarter = Fraction(1, 4)\n",
        "    whole_number = Fraction(5)  # Uses default denominator 1\n",
        "\n",
        "    print(\"Half:\", half)            # 1/2\n",
        "    print(\"Quarter:\", quarter)      # 1/4\n",
        "    print(\"Whole number:\", whole_number)  # 5/1"
      ],
      "metadata": {
        "colab": {
          "base_uri": "https://localhost:8080/"
        },
        "id": "rnXIH8_E2z9y",
        "outputId": "a66b4f22-db16-41d1-e0ce-8c3951dc72c8"
      },
      "execution_count": 12,
      "outputs": [
        {
          "output_type": "stream",
          "name": "stdout",
          "text": [
            "Half: 1/2\n",
            "Quarter: 1/4\n",
            "Whole number: 5/1\n"
          ]
        }
      ]
    },
    {
      "cell_type": "code",
      "source": [
        "#10.  Demonstrate operator overloading by creating a class Vector and overriding the add method to add two vectors.\n",
        "\n",
        "class Vector:\n",
        "    def __init__(self, x, y):\n",
        "        self.x = x\n",
        "        self.y = y\n",
        "\n",
        "    def __add__(self, other):\n",
        "        \"\"\"Overload + operator for vector addition\"\"\"\n",
        "        return Vector(self.x + other.x, self.y + other.y)\n",
        "\n",
        "    def __str__(self):\n",
        "        \"\"\"String representation for printing\"\"\"\n",
        "        return f\"Vector({self.x}, {self.y})\"\n",
        "\n",
        "# Demonstration\n",
        "v1 = Vector(2, 3)\n",
        "v2 = Vector(5, 7)\n",
        "result = v1 + v2  # Uses overloaded + operator\n",
        "\n",
        "print(v1)     # Vector(2, 3)\n",
        "print(v2)     # Vector(5, 7)\n",
        "print(result) # Vector(7, 10)"
      ],
      "metadata": {
        "colab": {
          "base_uri": "https://localhost:8080/"
        },
        "id": "KVCGrNsq3TVP",
        "outputId": "234a5ae6-79d1-4ee9-ef07-fcb5ca80bfff"
      },
      "execution_count": 14,
      "outputs": [
        {
          "output_type": "stream",
          "name": "stdout",
          "text": [
            "Vector(2, 3)\n",
            "Vector(5, 7)\n",
            "Vector(7, 10)\n"
          ]
        }
      ]
    },
    {
      "cell_type": "code",
      "source": [
        "#11. Create a class Person with attributes name and age. Add a method greet() that prints \"Hello, my name is\n",
        "#    {name} and I am {age} years old.\"\n",
        "\n",
        "class Person:\n",
        "    def __init__(self, name, age):\n",
        "        self.name = name\n",
        "        self.age = age\n",
        "\n",
        "    def greet(self):\n",
        "        print(f\"Hello, my name is {self.name} and I am {self.age} years old.\")\n",
        "\n",
        "# Demonstration\n",
        "if __name__ == \"__main__\":\n",
        "    person1 = Person(\"Nithin\", 18)\n",
        "    person2 = Person(\"Rutu\", 16)\n",
        "\n",
        "    person1.greet()  # Output: Hello, my name is Alice and I am 30 years old.\n",
        "    person2.greet()  # Output: Hello, my name is Bob and I am 25 years old."
      ],
      "metadata": {
        "colab": {
          "base_uri": "https://localhost:8080/"
        },
        "id": "Ix2dD_tL3qPo",
        "outputId": "481b20c7-df5f-4a52-8794-71928194977a"
      },
      "execution_count": 16,
      "outputs": [
        {
          "output_type": "stream",
          "name": "stdout",
          "text": [
            "Hello, my name is Nithin and I am 18 years old.\n",
            "Hello, my name is Rutu and I am 16 years old.\n"
          ]
        }
      ]
    },
    {
      "cell_type": "code",
      "source": [
        "#12. Implement a class Student with attributes name and grades. Create a method average_grade() to compute\n",
        "#    the average of the grades.\n",
        "\n",
        "class Student:\n",
        "    def __init__(self, name, grades=None):\n",
        "        self.name = name\n",
        "        self.grades = grades if grades is not None else []\n",
        "\n",
        "    def average_grade(self):\n",
        "        if not self.grades:\n",
        "            return 0.0\n",
        "        return sum(self.grades) / len(self.grades)\n",
        "\n",
        "# Demonstration\n",
        "if __name__ == \"__main__\":\n",
        "    # Student with grades\n",
        "    alice = Student(\"Alice\", [85, 90, 78, 92])\n",
        "    print(f\"{alice.name}'s average: {alice.average_grade():.2f}\")  # 86.25\n",
        "\n",
        "    # Student with no grades\n",
        "    bob = Student(\"Bob\")\n",
        "    print(f\"{bob.name}'s average: {bob.average_grade():.2f}\")  # 0.00\n",
        "\n",
        "    # Student with empty grade list\n",
        "    charlie = Student(\"Charlie\", [])\n",
        "    print(f\"{charlie.name}'s average: {charlie.average_grade():.2f}\")  # 0.00"
      ],
      "metadata": {
        "colab": {
          "base_uri": "https://localhost:8080/"
        },
        "id": "poTbTUrp4Lho",
        "outputId": "24bc3f08-fac7-4002-a924-2b8788ea982d"
      },
      "execution_count": 17,
      "outputs": [
        {
          "output_type": "stream",
          "name": "stdout",
          "text": [
            "Alice's average: 86.25\n",
            "Bob's average: 0.00\n",
            "Charlie's average: 0.00\n"
          ]
        }
      ]
    },
    {
      "cell_type": "code",
      "source": [
        "#13. Create a class Rectangle with methods set_dimensions() to set the dimensions and area() to calculate the area.\n",
        "\n",
        "class Rectangle:\n",
        "    def __init__(self, width=0, height=0):\n",
        "        self.width = width\n",
        "        self.height = height\n",
        "\n",
        "    def set_dimensions(self, width, height):\n",
        "        self.width = width\n",
        "        self.height = height\n",
        "\n",
        "    def area(self):\n",
        "        return self.width * self.height\n",
        "\n",
        "# Demonstration\n",
        "if __name__ == \"__main__\":\n",
        "    rect = Rectangle()\n",
        "    print(\"Initial area:\", rect.area())  # 0\n",
        "\n",
        "    rect.set_dimensions(4, 5)\n",
        "    print(\"4x5 rectangle area:\", rect.area())  # 20\n",
        "\n",
        "    rect.set_dimensions(7, 3)\n",
        "    print(\"7x3 rectangle area:\", rect.area())  # 21"
      ],
      "metadata": {
        "colab": {
          "base_uri": "https://localhost:8080/"
        },
        "id": "j-De5jLN5l__",
        "outputId": "a9babc84-f08b-4b14-dce9-cd4435575d30"
      },
      "execution_count": 18,
      "outputs": [
        {
          "output_type": "stream",
          "name": "stdout",
          "text": [
            "Initial area: 0\n",
            "4x5 rectangle area: 20\n",
            "7x3 rectangle area: 21\n"
          ]
        }
      ]
    },
    {
      "cell_type": "code",
      "source": [
        "#14. Create a class Employee with a method calculate_salary() that computes the salary based on hours worked\n",
        "#    and hourly rate. Create a derived class Manager that adds a bonus to the salary.\n",
        "\n",
        "class Employee:\n",
        "    def __init__(self, hours_worked=0, hourly_rate=0):\n",
        "        self.hours_worked = hours_worked\n",
        "        self.hourly_rate = hourly_rate\n",
        "\n",
        "    def calculate_salary(self):\n",
        "        return self.hours_worked * self.hourly_rate\n",
        "\n",
        "class Manager(Employee):\n",
        "    def __init__(self, hours_worked=0, hourly_rate=0, bonus=0):\n",
        "        super().__init__(hours_worked, hourly_rate)\n",
        "        self.bonus = bonus\n",
        "\n",
        "    def calculate_salary(self):\n",
        "        base_salary = super().calculate_salary()\n",
        "        return base_salary + self.bonus\n",
        "\n",
        "# Demonstration\n",
        "if __name__ == \"__main__\":\n",
        "    regular_emp = Employee(40, 20)\n",
        "    manager = Manager(40, 20, 500)\n",
        "\n",
        "    print(f\"Regular Employee Salary: ${regular_emp.calculate_salary()}\")\n",
        "    print(f\"Manager Salary: ${manager.calculate_salary()}\")"
      ],
      "metadata": {
        "colab": {
          "base_uri": "https://localhost:8080/"
        },
        "id": "kiuTe3T655wX",
        "outputId": "c7cb7be2-6ba1-446a-a7e8-951e0b3a4dfd"
      },
      "execution_count": 20,
      "outputs": [
        {
          "output_type": "stream",
          "name": "stdout",
          "text": [
            "Regular Employee Salary: $800\n",
            "Manager Salary: $1300\n"
          ]
        }
      ]
    },
    {
      "cell_type": "code",
      "source": [
        "#15. Create a class Product with attributes name, price, and quantity. Implement a method total_price() that\n",
        "#    calculates the total price of the product.\n",
        "\n",
        "class Product:\n",
        "    def __init__(self, name, price, quantity):\n",
        "        self.name = name\n",
        "        self.price = price\n",
        "        self.quantity = quantity\n",
        "\n",
        "    def total_price(self):\n",
        "        return self.price * self.quantity\n",
        "\n",
        "# Demonstration\n",
        "if __name__ == \"__main__\":\n",
        "    laptop = Product(\"Laptop\", 999.99, 3)\n",
        "    mouse = Product(\"Mouse\", 19.99, 10)\n",
        "\n",
        "    print(f\"{laptop.name} total: ${laptop.total_price():.2f}\")\n",
        "    print(f\"{mouse.name} total: ${mouse.total_price():.2f}\")"
      ],
      "metadata": {
        "colab": {
          "base_uri": "https://localhost:8080/"
        },
        "id": "wgve0i536yp3",
        "outputId": "f154e464-2d6f-4ee2-ac72-2b0b90923ea4"
      },
      "execution_count": 24,
      "outputs": [
        {
          "output_type": "stream",
          "name": "stdout",
          "text": [
            "Laptop total: $2999.97\n",
            "Mouse total: $199.90\n"
          ]
        }
      ]
    },
    {
      "cell_type": "code",
      "source": [
        "#16. Create a class Animal with an abstract method sound(). Create two derived classes Cow and Sheep that\n",
        "#    implement the sound() method.\n",
        "\n",
        "from abc import ABC, abstractmethod\n",
        "\n",
        "class Animal(ABC):\n",
        "    @abstractmethod\n",
        "    def sound(self):\n",
        "        pass\n",
        "\n",
        "class Cow(Animal):\n",
        "    def sound(self):\n",
        "        return \"Moo!\"\n",
        "\n",
        "class Sheep(Animal):\n",
        "    def sound(self):\n",
        "        return \"Baa!\"\n",
        "\n",
        "# Demonstration\n",
        "if __name__ == \"__main__\":\n",
        "    cow = Cow()\n",
        "    sheep = Sheep()\n",
        "\n",
        "    print(f\"Cow says: {cow.sound()}\")    # Cow says: Moo!\n",
        "    print(f\"Sheep says: {sheep.sound()}\")  # Sheep says: Baa!\n",
        "\n",
        "    # This will raise an error\n",
        "    try:\n",
        "        animal = Animal()\n",
        "    except TypeError as e:\n",
        "        print(f\"Error: {e}\")  # Can't instantiate abstract class Animal"
      ],
      "metadata": {
        "colab": {
          "base_uri": "https://localhost:8080/"
        },
        "id": "BM9dAE098-vS",
        "outputId": "03fc2fe0-79eb-44f3-8cc5-1484a9d803a9"
      },
      "execution_count": 25,
      "outputs": [
        {
          "output_type": "stream",
          "name": "stdout",
          "text": [
            "Cow says: Moo!\n",
            "Sheep says: Baa!\n",
            "Error: Can't instantiate abstract class Animal with abstract method sound\n"
          ]
        }
      ]
    },
    {
      "cell_type": "code",
      "source": [
        "#17. Create a class Book with attributes title, author, and year_published. Add a method get_book_info() that\n",
        "#    returns a formatted string with the book's details.\n",
        "\n",
        "class Book:\n",
        "    def __init__(self, title, author, year_published):\n",
        "        self.title = title\n",
        "        self.author = author\n",
        "        self.year_published = year_published\n",
        "\n",
        "    def get_book_info(self):\n",
        "        return f\"'{self.title}' by {self.author}, published in {self.year_published}\"\n",
        "\n",
        "# Demonstration\n",
        "if __name__ == \"__main__\":\n",
        "    book = Book(\"To Kill a Mockingbird\", \"Harper Lee\", 1960)\n",
        "    print(book.get_book_info())"
      ],
      "metadata": {
        "colab": {
          "base_uri": "https://localhost:8080/"
        },
        "id": "GTAAYQ4l9mWh",
        "outputId": "b320c82b-e9f7-4307-89da-409e9e2cf48f"
      },
      "execution_count": 28,
      "outputs": [
        {
          "output_type": "stream",
          "name": "stdout",
          "text": [
            "'To Kill a Mockingbird' by Harper Lee, published in 1960\n"
          ]
        }
      ]
    },
    {
      "cell_type": "code",
      "source": [
        "#18. Create a class House with attributes address and price. Create a derived class Mansion that adds an\n",
        "#    attribute number_of_rooms.\n",
        "\n",
        "class House:\n",
        "    def __init__(self, address, price):\n",
        "        self.address = address\n",
        "        self.price = price\n",
        "\n",
        "class Mansion(House):\n",
        "    def __init__(self, address, price, number_of_rooms):\n",
        "        super().__init__(address, price)\n",
        "        self.number_of_rooms = number_of_rooms\n",
        "\n",
        "# Demonstration\n",
        "if __name__ == \"__main__\":\n",
        "    house = House(\"123 Main St\", 250000)\n",
        "    mansion = Mansion(\"1 Beverly Hills\", 25000000, 15)\n",
        "\n",
        "    print(f\"House: {house.address}, ${house.price}\")\n",
        "    print(f\"Mansion: {mansion.address}, ${mansion.price}, {mansion.number_of_rooms} rooms\")"
      ],
      "metadata": {
        "colab": {
          "base_uri": "https://localhost:8080/"
        },
        "id": "fPN1SkPs-OLK",
        "outputId": "e5e12e9c-d64d-47f8-e8b3-c9941133d821"
      },
      "execution_count": 29,
      "outputs": [
        {
          "output_type": "stream",
          "name": "stdout",
          "text": [
            "House: 123 Main St, $250000\n",
            "Mansion: 1 Beverly Hills, $25000000, 15 rooms\n"
          ]
        }
      ]
    }
  ]
}